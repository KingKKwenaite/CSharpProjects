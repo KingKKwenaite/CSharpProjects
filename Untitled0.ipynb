{
  "nbformat": 4,
  "nbformat_minor": 0,
  "metadata": {
    "colab": {
      "provenance": [],
      "authorship_tag": "ABX9TyPm6yw5dkPbx6S+F8M3p4jq",
      "include_colab_link": true
    },
    "kernelspec": {
      "name": "python3",
      "display_name": "Python 3"
    },
    "language_info": {
      "name": "python"
    }
  },
  "cells": [
    {
      "cell_type": "markdown",
      "metadata": {
        "id": "view-in-github",
        "colab_type": "text"
      },
      "source": [
        "<a href=\"https://colab.research.google.com/github/KingKKwenaite/CSharpProjects/blob/main/Untitled0.ipynb\" target=\"_parent\"><img src=\"https://colab.research.google.com/assets/colab-badge.svg\" alt=\"Open In Colab\"/></a>"
      ]
    },
    {
      "cell_type": "code",
      "execution_count": null,
      "metadata": {
        "id": "zZqFaPZqFPgb"
      },
      "outputs": [],
      "source": [
        "# prompt: login in to metatrader 5 with python\n",
        "\n",
        "# Install the MetaTrader5 library if you haven't already\n",
        "!pip install MetaTrader5\n",
        "\n",
        "import MetaTrader5 as mt5\n",
        "\n",
        "# Connect to the MetaTrader 5 terminal\n",
        "if not mt5.initialize():\n",
        "    print(\"initialize() failed, error code =\",mt5.last_error())\n",
        "    quit()\n",
        "\n",
        "# Log in to your MetaTrader 5 account (replace with your credentials)\n",
        "login = YOUR_LOGIN\n",
        "server = YOUR_SERVER\n",
        "password = YOUR_PASSWORD  # Optional, if you have a password\n",
        "\n",
        "if not mt5.login(login, server=server, password=password):\n",
        "    print(\"login() failed, error code =\", mt5.last_error())\n",
        "    mt5.shutdown()\n",
        "    quit()\n",
        "\n",
        "# Now you're connected and logged in!\n",
        "print(\"Successfully connected and logged in to MetaTrader 5\")\n",
        "\n",
        "# You can now use the mt5 library to perform various actions, e.g.:\n",
        "# Get account information\n",
        "account_info = mt5.account_info()\n",
        "if account_info!=None:\n",
        "    print(account_info)\n",
        "else:\n",
        "    print(\"failed to get account info\")\n",
        "\n",
        "\n",
        "# Shutdown the connection when you are finished\n",
        "mt5.shutdown()\n",
        "print(\"Connection to MetaTrader 5 closed\")"
      ]
    }
  ]
}